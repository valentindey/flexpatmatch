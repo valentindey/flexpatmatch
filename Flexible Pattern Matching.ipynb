{
 "cells": [
  {
   "cell_type": "markdown",
   "metadata": {},
   "source": [
    "Testsätze und -pattern sowie Hilfsfunktion um Treffer in diesen zu rendern"
   ]
  },
  {
   "cell_type": "code",
   "execution_count": 1,
   "metadata": {
    "collapsed": false
   },
   "outputs": [],
   "source": [
    "from IPython.display import display_html\n",
    "\n",
    "tests = [(\"Ich bin ein Moofoo der in Barfoo lebt.\", \"foo\"),\n",
    "         (\"And the magician said: 'abracadabracadabra, simsalabim!'\", \"abracadabra\"),\n",
    "         (\"CPM_annual_conference_announce\", \"announce\"),\n",
    "         (\"I have an overlapping patpattpattern!\", \"pattern\"),\n",
    "         (\"Pattern ganz am Ende?\", \"nde?\"),\n",
    "         (\"Pattern ganz am Anfang?\", \"Pat\")]\n",
    "\n",
    "def print_highlighted_tests(search_fn):\n",
    "    out = []\n",
    "    for text, pattern in tests:\n",
    "        start_idxs = search_fn(text, pattern)\n",
    "        text = list(text)\n",
    "        for idx in start_idxs:\n",
    "            text[idx] = '<strong>' + text[idx]\n",
    "            end_idx = idx+len(pattern)-1\n",
    "            text[end_idx] += '</strong>'\n",
    "        display_html(\"\".join(text), raw=True)"
   ]
  },
  {
   "cell_type": "code",
   "execution_count": 2,
   "metadata": {
    "collapsed": false
   },
   "outputs": [],
   "source": [
    "import pydotplus\n",
    "from IPython.display import Image\n",
    "\n",
    "class State:\n",
    "    def __init__(self, id, final=False):\n",
    "        self.id = id\n",
    "        self.transitions = {}\n",
    "        self.final = final\n",
    "        \n",
    "    def add_transition(self, label, target):\n",
    "        self.transitions[label] = target\n",
    "        \n",
    "    def follow_path(self, path):\n",
    "        if len(path) == 1:\n",
    "            return self.transitions[path]\n",
    "        return self.transitions[path[0]].follow_path(path[1])\n",
    "    \n",
    "    def as_dot(self):\n",
    "        out = []\n",
    "        for transition, next_state in self.transitions.items():\n",
    "            out.append(\"{} -> {} [label={}];\\n\"\n",
    "                       .format(self.id, next_state.id, transition))\n",
    "            out.extend([x for x in next_state.as_dot() if x not in out])\n",
    "        return out\n",
    "    \n",
    "    def __str__(self):\n",
    "        return \"<State '{}' with {} transitions>\".format(\n",
    "            self.id, str(list(self.transitions.keys())))\n",
    "    \n",
    "    __repr__ = __str__\n",
    "    \n",
    "def print_automaton(state):\n",
    "    dot_src = \"digraph automaton { rankdir=\\\"LR\\\"; %s }\" % \"\".join(state.as_dot())\n",
    "    return Image(pydotplus.graph_from_dot_data(dot_src).create_png(prog='dot'))"
   ]
  },
  {
   "cell_type": "markdown",
   "metadata": {},
   "source": [
    "\n",
    "# Simple Pattern Matching\n",
    "- eine Schleife, die über den Text itertiert (kann beendet werden,\n",
    "  sobald der restliche Text kürzer wäre als das Pattern selbst)\n",
    "- eine zweite Schleife, die an jeder Position des Textes über die\n",
    "  nächsten Buchstaben und das Pattern iteriert und abbricht, sobald\n",
    "  ein Buchstabe im Pattern nicht mit dem aktuellen Buchstaben im Text\n",
    "  übereinstimmt\n",
    "- wenn die zweite Schleife komplett durchlaufen wurde, wurde ein Match\n",
    "  gefunden"
   ]
  },
  {
   "cell_type": "code",
   "execution_count": 3,
   "metadata": {
    "collapsed": false
   },
   "outputs": [
    {
     "data": {
      "text/html": [
       "Ich bin ein Moo<strong>foo</strong> der in Bar<strong>foo</strong> lebt."
      ]
     },
     "metadata": {},
     "output_type": "display_data"
    },
    {
     "data": {
      "text/html": [
       "And the magician said: '<strong>abracad<strong>abra</strong>cadabra</strong>, simsalabim!'"
      ]
     },
     "metadata": {},
     "output_type": "display_data"
    },
    {
     "data": {
      "text/html": [
       "CPM_annual_conference_<strong>announce</strong>"
      ]
     },
     "metadata": {},
     "output_type": "display_data"
    },
    {
     "data": {
      "text/html": [
       "I have an overlapping patpatt<strong>pattern</strong>!"
      ]
     },
     "metadata": {},
     "output_type": "display_data"
    },
    {
     "data": {
      "text/html": [
       "Pattern ganz am E<strong>nde?</strong>"
      ]
     },
     "metadata": {},
     "output_type": "display_data"
    },
    {
     "data": {
      "text/html": [
       "<strong>Pat</strong>tern ganz am Anfang?"
      ]
     },
     "metadata": {},
     "output_type": "display_data"
    }
   ],
   "source": [
    "def simple_search(text, pattern):\n",
    "    # Walk forwards through the text\n",
    "    for text_idx in range(len(text) - len(pattern) + 1):\n",
    "        # Walk forwards through the pattern\n",
    "        for pat_idx, char in enumerate(pattern):\n",
    "            # Does the text match the pattern?\n",
    "            if char != text[text_idx+pat_idx]:\n",
    "                # Nay, go to the next character in the text\n",
    "                # and try the pattern again\n",
    "                break\n",
    "        else:\n",
    "            # Yay, we got a match! (Because all pattern symbols matched)\n",
    "            yield text_idx\n",
    "            \n",
    "# PROBLEM: In case of a mismatch, we always start reading the **full** pattern again,\n",
    "#          just for the **next** position in the text -> Inefficient!\n",
    "\n",
    "print_highlighted_tests(simple_search)"
   ]
  },
  {
   "cell_type": "markdown",
   "metadata": {},
   "source": [
    "# Knuth-Morris-Pratt\n",
    "- das selbe Prinzip wie beim Simple Pattern Matching\n",
    "- das Pattern wird jedoch bei einem Mismatch von Buchstaben “weiter\n",
    "  nach vorne geschoben”\n",
    "- hierbei hilft eine Prefix-Tabelle (auch Next-Funktion) die die\n",
    "  “Verschiebepositionen” speichert. (Die Verschiebeposition ist die Länge des\n",
    "  längsten Suffix des Teils des Patterns der gefunden wurde, der gleichzeitig\n",
    "  Präfix des gesamten Patterns ist)\n",
    "\n",
    "<!-- TODO: besserer Code hier?! -->"
   ]
  },
  {
   "cell_type": "code",
   "execution_count": 4,
   "metadata": {
    "collapsed": false
   },
   "outputs": [
    {
     "name": "stdout",
     "output_type": "stream",
     "text": [
      "[-1, 0, 0, -1, 1, -1, 1, -1, 0, 0, -1, 4]\n"
     ]
    }
   ],
   "source": [
    "def get_prefix_table(pattern):\n",
    "    i, j = 0, -1\n",
    "    prefix_table = [-1] * (len(pattern) + 1)\n",
    "    while i < len(pattern):\n",
    "        while j >= 0 and pattern[j] != pattern[i]:\n",
    "            j = prefix_table[j]\n",
    "        i += 1\n",
    "        j += 1\n",
    "        if i == len(pattern):\n",
    "            prefix_table[i] = j\n",
    "        elif pattern[i] != pattern[j]:\n",
    "            prefix_table[i] = j\n",
    "        else:\n",
    "            prefix_table[i] = prefix_table[j]\n",
    "    return prefix_table\n",
    "\n",
    "print(get_prefix_table('abracadabra'))"
   ]
  },
  {
   "cell_type": "markdown",
   "metadata": {},
   "source": [
    "| 0 | 1 | 2 |  3 | 4 |  5 | 6 |  7 | 8 | 9 | 10 | match |\n",
    "|---|---|---|----|---|----|---|----|---|---|----|-------|\n",
    "| a | b | r |  a | c |  a | d |  a | b | r |  a |       |\n",
    "|-1 | 0 | 0 | -1 | 1 | -1 | 1 | -1 | 0 | 0 | -1 |    4  |\n",
    "\n",
    "Table: Präfix-Tabelle für das Pattern *abracadabra*"
   ]
  },
  {
   "cell_type": "code",
   "execution_count": 5,
   "metadata": {
    "collapsed": false
   },
   "outputs": [
    {
     "data": {
      "text/html": [
       "Ich bin ein Moo<strong>foo</strong> der in Bar<strong>foo</strong> lebt."
      ]
     },
     "metadata": {},
     "output_type": "display_data"
    },
    {
     "data": {
      "text/html": [
       "And the magician said: '<strong>abracad<strong>abra</strong>cadabra</strong>, simsalabim!'"
      ]
     },
     "metadata": {},
     "output_type": "display_data"
    },
    {
     "data": {
      "text/html": [
       "CPM_annual_conference_<strong>announce</strong>"
      ]
     },
     "metadata": {},
     "output_type": "display_data"
    },
    {
     "data": {
      "text/html": [
       "I have an overlapping patpatt<strong>pattern</strong>!"
      ]
     },
     "metadata": {},
     "output_type": "display_data"
    },
    {
     "data": {
      "text/html": [
       "Pattern ganz am E<strong>nde?</strong>"
      ]
     },
     "metadata": {},
     "output_type": "display_data"
    },
    {
     "data": {
      "text/html": [
       "<strong>Pat</strong>tern ganz am Anfang?"
      ]
     },
     "metadata": {},
     "output_type": "display_data"
    }
   ],
   "source": [
    "def kmp_search(text, pattern):\n",
    "    prefix_table = get_prefix_table(pattern)\n",
    "    text_idx, pat_idx = 0, 0\n",
    "    while text_idx < len(text):\n",
    "        while pat_idx >= 0 and text[text_idx] != pattern[pat_idx]:\n",
    "            pat_idx = prefix_table[pat_idx]\n",
    "        text_idx += 1\n",
    "        pat_idx += 1\n",
    "        if pat_idx == len(pattern):\n",
    "            yield text_idx - len(pattern)\n",
    "            pat_idx = prefix_table[pat_idx]\n",
    "\n",
    "print_highlighted_tests(kmp_search)"
   ]
  },
  {
   "cell_type": "markdown",
   "metadata": {},
   "source": [
    "# Shift-And\n",
    "- Automat wird mit Bitmasken repräsentiert\n",
    "- Bitmasken für jeden Buchstaben im Pattern erstellen (alle anderen\n",
    "  Buchstaben haben 0-Vektor als Bitmaske)\n",
    "- Vektor der einen Automaten repräsentiert, dessen Anfangszustand\n",
    "  immer aktiv ist, wird durch Shift-Operationen “durchlaufen” und mit\n",
    "  der Bitmaske des aktuell gelesenen Buchstabens im Text “verundet”\n",
    "- wenn der letzte Zustand des Automaten aktiv ist, wurde das Pattern\n",
    "  gefunden\n",
    "- Endianness der Vektoren ist zu beachten! (immer Big Endian?)"
   ]
  },
  {
   "cell_type": "code",
   "execution_count": 6,
   "metadata": {
    "collapsed": false
   },
   "outputs": [
    {
     "data": {
      "text/plain": [
       "[{'f': BitArray('0b001'), 'o': BitArray('0b110')},\n",
       " {'a': BitArray('0b10010101001'),\n",
       "  'b': BitArray('0b00100000010'),\n",
       "  'c': BitArray('0b00000010000'),\n",
       "  'd': BitArray('0b00001000000'),\n",
       "  'r': BitArray('0b01000000100')}]"
      ]
     },
     "execution_count": 6,
     "metadata": {},
     "output_type": "execute_result"
    }
   ],
   "source": [
    "from bitstring import BitArray\n",
    "from collections import defaultdict\n",
    "\n",
    "def get_bit_table(pattern):\n",
    "    alphabet = set(pattern)\n",
    "    # Every entry represents the *reversed* pattern, with a 1\n",
    "    # at the positions with the character\n",
    "    table = {char: BitArray('0b' + ''.join('1' if c == char else '0'\n",
    "                                           for c in reversed(pattern)))\n",
    "             for char in alphabet}\n",
    "    return table\n",
    "\n",
    "[get_bit_table('foo'), get_bit_table('abracadabra')]"
   ]
  },
  {
   "cell_type": "markdown",
   "metadata": {},
   "source": [
    "| letter||   |   |   |   |   |   |   |   |   |   |\n",
    "|----|---|---|---|---|---|---|---|---|---|---|---|\n",
    "| a  | 1 | 0 | 0 | 1 | 0 | 1 | 0 | 1 | 0 | 0 | 1 |\n",
    "| b  | 0 | 0 | 1 | 0 | 0 | 0 | 0 | 0 | 0 | 1 | 0 |\n",
    "| r  | 0 | 1 | 0 | 0 | 0 | 0 | 0 | 0 | 1 | 0 | 0 |\n",
    "| c  | 0 | 0 | 0 | 0 | 0 | 0 | 1 | 0 | 0 | 0 | 0 |\n",
    "| d  | 0 | 0 | 0 | 0 | 1 | 0 | 0 | 0 | 0 | 0 | 0 |\n",
    "| \\* | 0 | 0 | 0 | 0 | 0 | 0 | 0 | 0 | 0 | 0 | 0 |\n",
    "\n",
    "Table: Bitmasken-Tabelle für das Pattern *abracadabra*"
   ]
  },
  {
   "cell_type": "code",
   "execution_count": 7,
   "metadata": {
    "collapsed": false
   },
   "outputs": [
    {
     "data": {
      "text/html": [
       "Ich bin ein Moo<strong>foo</strong> der in Bar<strong>foo</strong> lebt."
      ]
     },
     "metadata": {},
     "output_type": "display_data"
    },
    {
     "data": {
      "text/html": [
       "And the magician said: '<strong>abracad<strong>abra</strong>cadabra</strong>, simsalabim!'"
      ]
     },
     "metadata": {},
     "output_type": "display_data"
    },
    {
     "data": {
      "text/html": [
       "CPM_annual_conference_<strong>announce</strong>"
      ]
     },
     "metadata": {},
     "output_type": "display_data"
    },
    {
     "data": {
      "text/html": [
       "I have an overlapping patpatt<strong>pattern</strong>!"
      ]
     },
     "metadata": {},
     "output_type": "display_data"
    },
    {
     "data": {
      "text/html": [
       "Pattern ganz am E<strong>nde?</strong>"
      ]
     },
     "metadata": {},
     "output_type": "display_data"
    },
    {
     "data": {
      "text/html": [
       "<strong>Pat</strong>tern ganz am Anfang?"
      ]
     },
     "metadata": {},
     "output_type": "display_data"
    }
   ],
   "source": [
    "def shift_and_search(text, pattern):\n",
    "    m = len(pattern)\n",
    "    bit_table = get_bit_table(pattern)\n",
    "    empty_vec = BitArray(length=m)\n",
    "    # Vector that represents a full match on the pattern\n",
    "    found_vec = BitArray('0b1' + '0'*(m-1))  # '1000...'\n",
    "    # Vector that adds a 'empty_word' transition on the first state\n",
    "    # to itself\n",
    "    init_vec = BitArray('0b' + '0'*(m-1) + '1')  # '...0001'\n",
    "    \n",
    "    # In the beginning, all states in the NFA are inactive\n",
    "    automaton = BitArray(length=m)  # '0000...'\n",
    "    for text_idx, char in enumerate(text):\n",
    "        char_vec = bit_table.get(char, empty_vec)\n",
    "        automaton <<= 1        # shift/advance in the NFA\n",
    "        automaton |= init_vec  # activate the first state\n",
    "        automaton &= char_vec  # and/activate the character states\n",
    "        if automaton & found_vec != empty_vec:  # Is the final state active?\n",
    "              yield text_idx - m + 1\n",
    "\n",
    "print_highlighted_tests(shift_and_search)"
   ]
  },
  {
   "cell_type": "markdown",
   "metadata": {},
   "source": [
    "# Shift-Or\n",
    "- gleiches Konzept wie beim Shift-And Verfahren\n",
    "- hier repräsentieren 0en aktive und 1en inaktive Zustände, so kann der\n",
    "  Schritt des “aktiv machens” des ersten Zustands des Automaten gespart\n",
    "  werden, da beim shift automatisch eine neue 0 (aktiver Zustand) hinzugefügt\n",
    "  wird\n",
    "- alle Bitvektoren sind hier natürlich invertiert"
   ]
  },
  {
   "cell_type": "code",
   "execution_count": 8,
   "metadata": {
    "collapsed": false
   },
   "outputs": [
    {
     "data": {
      "text/html": [
       "Ich bin ein Moo<strong>foo</strong> der in Bar<strong>foo</strong> lebt."
      ]
     },
     "metadata": {},
     "output_type": "display_data"
    },
    {
     "data": {
      "text/html": [
       "And the magician said: '<strong>abracad<strong>abra</strong>cadabra</strong>, simsalabim!'"
      ]
     },
     "metadata": {},
     "output_type": "display_data"
    },
    {
     "data": {
      "text/html": [
       "CPM_annual_conference_<strong>announce</strong>"
      ]
     },
     "metadata": {},
     "output_type": "display_data"
    },
    {
     "data": {
      "text/html": [
       "I have an overlapping patpatt<strong>pattern</strong>!"
      ]
     },
     "metadata": {},
     "output_type": "display_data"
    },
    {
     "data": {
      "text/html": [
       "Pattern ganz am E<strong>nde?</strong>"
      ]
     },
     "metadata": {},
     "output_type": "display_data"
    },
    {
     "data": {
      "text/html": [
       "<strong>Pat</strong>tern ganz am Anfang?"
      ]
     },
     "metadata": {},
     "output_type": "display_data"
    }
   ],
   "source": [
    "def shift_or_search(text, pattern):\n",
    "    m = len(pattern)\n",
    "    empty_vec = BitArray('0b' + '1'*m)  # '1111...'\n",
    "    \n",
    "    # Vector that represents a full match on the pattern\n",
    "    found_vec = BitArray('0b0' + '1'*(m-1))  # '0111...'\n",
    "    \n",
    "    # XORing with an all-one array of same length creates the complement\n",
    "    bit_table = {char: vec ^ empty_vec\n",
    "                 for char, vec in get_bit_table(pattern).items()}\n",
    "    \n",
    "    # In the beginning, all states in the NFA are inactive\n",
    "    automaton = BitArray('0b' + '1'*m)  # '1111...'\n",
    "    for text_idx, char in enumerate(text):\n",
    "        automaton = (automaton << 1 | bit_table.get(char, empty_vec))\n",
    "        if (automaton | found_vec) != empty_vec:\n",
    "              yield text_idx - m + 1\n",
    "\n",
    "print_highlighted_tests(shift_or_search)"
   ]
  },
  {
   "cell_type": "markdown",
   "metadata": {},
   "source": [
    "# Boyer-Moore\n",
    "- Pattern wird wie zuvor von links nach rechts durch den Text\n",
    "  geschoben, jedoch wird nun das Pattern von rechts nach links\n",
    "  durchlaufen (in natürlichen Sprachen wird so üblicherweise früher\n",
    "  ein Mismatch gefunden und das Pattern kann schneller\n",
    "  verschoben werden)\n",
    "- für die Verschiebung werden zwei Heuristiken angewandt\n",
    "    *   **Bad-Character Heuristik**<br>\n",
    "        bei einem Mismatch kann das Pattern soweit verschoben werden,\n",
    "        dass der aktuell im Text gelesene Buchstabe mit dem letzten\n",
    "        vorkommen dieses Buchstabens im Pattern aligniert ist, wenn\n",
    "        dieser Buchstabe gar nicht im Pattern vorkommt, kann das Pattern\n",
    "        um seine ganze Länge verschoben werden\n",
    "    *   **Good-Suffix Heuristik**<br>\n",
    "        Wenn das bis zum Mismatch gelesene Suffix des Patterns nochmals\n",
    "        Infix des Patterns ist, kann das Pattern soweit verschoben\n",
    "        werden, bis der gelesene Teil mit diesem Infix aligniert ist,\n",
    "        kommt dieses Suffix kein zweites malim Pattern vor, kann das\n",
    "        Pattern um seine ganze Länge verschoben werden\n",
    "- es wird immer die maximale Verschiebung die sich durch diese\n",
    "  Heristiken ergeben angewandt\n",
    "\n",
    "<!-- TODO: Code -->\n",
    "\n",
    "# Horspool\n",
    "- Wie bei Boyer-Moore wird der Text von links nach rechts, das Pattern aber\n",
    "  von rechts nach links durchlaufen\n",
    "- sobald ein Mismatch erreicht wird, wird das Pattern soweit verschoben, dass\n",
    "  das gerade gelesene Zeichen im Text mit dem letzen\n",
    "\n",
    "<!-- TODO: debug horspool search! (überlappende Vorkommen nicht gefunden...) -->"
   ]
  },
  {
   "cell_type": "code",
   "execution_count": 9,
   "metadata": {
    "collapsed": false
   },
   "outputs": [
    {
     "data": {
      "text/plain": [
       "{'a': 7, 'c': 1, 'n': 2, 'o': 4, 'u': 3}"
      ]
     },
     "execution_count": 9,
     "metadata": {},
     "output_type": "execute_result"
    }
   ],
   "source": [
    "def get_horspool_table(pattern):\n",
    "    return {char: len(pattern)-j-1\n",
    "            for j, char in enumerate(pattern[:-1])}\n",
    "\n",
    "get_horspool_table('announce')"
   ]
  },
  {
   "cell_type": "code",
   "execution_count": 10,
   "metadata": {
    "collapsed": false
   },
   "outputs": [
    {
     "data": {
      "text/html": [
       "Ich bin ein Moo<strong>foo</strong> der in Bar<strong>foo</strong> lebt."
      ]
     },
     "metadata": {},
     "output_type": "display_data"
    },
    {
     "data": {
      "text/html": [
       "And the magician said: '<strong>abracad<strong>abra</strong>cadabra</strong>, simsalabim!'"
      ]
     },
     "metadata": {},
     "output_type": "display_data"
    },
    {
     "data": {
      "text/html": [
       "CPM_annual_conference_<strong>announce</strong>"
      ]
     },
     "metadata": {},
     "output_type": "display_data"
    },
    {
     "data": {
      "text/html": [
       "I have an overlapping patpatt<strong>pattern</strong>!"
      ]
     },
     "metadata": {},
     "output_type": "display_data"
    },
    {
     "data": {
      "text/html": [
       "Pattern ganz am E<strong>nde?</strong>"
      ]
     },
     "metadata": {},
     "output_type": "display_data"
    },
    {
     "data": {
      "text/html": [
       "<strong>Pat</strong>tern ganz am Anfang?"
      ]
     },
     "metadata": {},
     "output_type": "display_data"
    }
   ],
   "source": [
    "def horspool_search(text, pattern):\n",
    "    n = len(text) - 1\n",
    "    m = len(pattern) - 1\n",
    "    table = get_horspool_table(pattern)\n",
    "    pos = -1\n",
    "    # Walk through text from left to right\n",
    "    while pos <= n - m:\n",
    "        j = m\n",
    "        # Walk through pattern from right to left\n",
    "        while j >= 0 and text[pos + j] == pattern[j]:\n",
    "            j -= 1\n",
    "        # Did we get through the whole pattern?\n",
    "        if j == -1:\n",
    "            yield pos\n",
    "        current_char = text[pos+m]\n",
    "        # What's the indx of the character in the pattern?\n",
    "        # If the character is not in the table, use the pattern length\n",
    "        last_idx_in_pattern = table.get(current_char, m)\n",
    "        pos += last_idx_in_pattern\n",
    "\n",
    "print_highlighted_tests(horspool_search)"
   ]
  },
  {
   "cell_type": "markdown",
   "metadata": {},
   "source": [
    "# Faktorbasierte Suche\n",
    "\n",
    "**TODO**: Allgemeine Idee/Ansatz\n",
    "\n",
    "## Backward Nondeterministic DAWG Matching\n",
    "\n",
    "Ähnlich wie Shift/And, in diesem Fall wird aber nach Faktoren/Infixen des Pattern gesucht um so die Verschiebung zu maximieren."
   ]
  },
  {
   "cell_type": "code",
   "execution_count": 11,
   "metadata": {
    "collapsed": false
   },
   "outputs": [
    {
     "data": {
      "text/html": [
       "Ich bin ein Moo<strong>foo</strong> der in Bar<strong>foo</strong> lebt."
      ]
     },
     "metadata": {},
     "output_type": "display_data"
    },
    {
     "data": {
      "text/html": [
       "And the magician said: '<strong>abracad<strong>abra</strong>cadabra</strong>, simsalabim!'"
      ]
     },
     "metadata": {},
     "output_type": "display_data"
    },
    {
     "data": {
      "text/html": [
       "CPM_annual_conference_<strong>announce</strong>"
      ]
     },
     "metadata": {},
     "output_type": "display_data"
    },
    {
     "data": {
      "text/html": [
       "I have an overlapping patpatt<strong>pattern</strong>!"
      ]
     },
     "metadata": {},
     "output_type": "display_data"
    },
    {
     "data": {
      "text/html": [
       "Pattern ganz am E<strong>nde?</strong>"
      ]
     },
     "metadata": {},
     "output_type": "display_data"
    },
    {
     "data": {
      "text/html": [
       "<strong>Pat</strong>tern ganz am Anfang?"
      ]
     },
     "metadata": {},
     "output_type": "display_data"
    }
   ],
   "source": [
    "def bndm_search(text, pattern):\n",
    "    bit_table = get_bit_table(pattern)\n",
    "    # Sincew're iterating backwards through the pattern,\n",
    "    # we have to flip the vectors ('0001' -> '1000')\n",
    "    for vec in bit_table.values():\n",
    "        vec.reverse()\n",
    "    empty_vec = BitArray(length=len(pattern))\n",
    "    found_vec = BitArray('0b1' + '0'*(len(pattern)-1))\n",
    "    n = len(text) - 1\n",
    "    m = len(pattern)\n",
    "    pos = -1\n",
    "    # Go throught text left-to-right\n",
    "    while pos <= n - m:\n",
    "        j = m\n",
    "        last = m\n",
    "        D = BitArray('0b' + '1'*m)\n",
    "        # Go through pattern right-to-left\n",
    "        while D != empty_vec:\n",
    "            char_vec = bit_table.get(text[pos+j], empty_vec)\n",
    "            D &= char_vec\n",
    "            j -= 1\n",
    "            if D & found_vec != empty_vec:\n",
    "                if j > 0:\n",
    "                    last = j\n",
    "                else:\n",
    "                    yield pos + 1\n",
    "            D <<= 1\n",
    "        pos += last\n",
    "        \n",
    "print_highlighted_tests(bndm_search)"
   ]
  },
  {
   "cell_type": "markdown",
   "metadata": {},
   "source": [
    "## Backward Oracle Matching\n",
    "\n",
    "**TODO**: Erklärung"
   ]
  },
  {
   "cell_type": "code",
   "execution_count": 16,
   "metadata": {
    "collapsed": false,
    "scrolled": true
   },
   "outputs": [
    {
     "data": {
      "image/png": "[encoded data removed]",
      "text/plain": [
       "<IPython.core.display.Image object>"
      ]
     },
     "execution_count": 16,
     "metadata": {},
     "output_type": "execute_result"
    }
   ],
   "source": [
    "def build_oracle(pattern):\n",
    "    pattern = pattern[::-1]\n",
    "    m = 0\n",
    "    S = {}\n",
    "    start = State(m)\n",
    "    S[m] = None\n",
    "    cur_state = start\n",
    "    for idx, char in enumerate(pattern):\n",
    "        m += 1\n",
    "        new_state = State(m)\n",
    "        cur_state.add_transition(char, new_state)\n",
    "        k = S[m-1]\n",
    "        while k is not None and char not in k.transitions:\n",
    "            k.add_transition(char, new_state)\n",
    "            k = S[k.id]\n",
    "        if k is None:\n",
    "            S[m] = start\n",
    "        else:\n",
    "            S[m] = k.transitions[char]\n",
    "        cur_state = new_state\n",
    "    return start\n",
    "        \n",
    "oracle = build_oracle('announce')\n",
    "print_automaton(oracle)"
   ]
  },
  {
   "cell_type": "code",
   "execution_count": null,
   "metadata": {
    "collapsed": true
   },
   "outputs": [],
   "source": []
  }
 ],
 "metadata": {
  "kernelspec": {
   "display_name": "Python 3",
   "language": "python",
   "name": "python3"
  },
  "language_info": {
   "codemirror_mode": {
    "name": "ipython",
    "version": 3
   },
   "file_extension": ".py",
   "mimetype": "text/x-python",
   "name": "python",
   "nbconvert_exporter": "python",
   "pygments_lexer": "ipython3",
   "version": "3.4.3+"
  }
 },
 "nbformat": 4,
 "nbformat_minor": 0
}
