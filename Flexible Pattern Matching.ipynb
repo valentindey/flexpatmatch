{
 "cells": [
  {
   "cell_type": "markdown",
   "metadata": {},
   "source": [
    "\n",
    "# Simple Pattern Matching\n",
    "- eine Schleife, die über den Text itertiert (kann beendet werden,\n",
    "  sobald der restliche Text kürzer wäre als das Pattern selbst)\n",
    "- eine zweite Schleife, die an jeder Position des Textes über die\n",
    "  nächsten Buchstaben und das Pattern iteriert und abbricht, sobald\n",
    "  ein Buchstabe im Pattern nicht mit dem aktuellen Buchstaben im Text\n",
    "  übereinstimmt\n",
    "- wenn die zweite Schleife komplett durchlaufen wurde, wurde ein Match\n",
    "  gefunden"
   ]
  },
  {
   "cell_type": "code",
   "execution_count": null,
   "metadata": {
    "collapsed": true
   },
   "outputs": [],
   "source": [
    "    def simple_search(text, pattern):\n",
    "        for i in range(len(text) - len(pattern) + 1):\n",
    "            for j, char in enumerate(pattern):\n",
    "                if char != text[i+j]:\n",
    "                    break\n",
    "            else:\n",
    "                yield i"
   ]
  },
  {
   "cell_type": "markdown",
   "metadata": {},
   "source": [
    "# Knuth-Morris-Pratt\n",
    "- das selbe Prinzip wie beim Simple Pattern Matching\n",
    "- das Pattern wird jedoch bei einem Mismatch von Buchstaben “weiter\n",
    "  nach vorne geschoben”\n",
    "- hierbei hilft eine Prefix-Tabelle (auch Next-Funktion) die die\n",
    "  “Verschiebepositionen” speichert. (Die Verschiebeposition ist die Länge des\n",
    "  längsten Suffix des Teils des Patterns der gefunden wurde, der gleichzeitig\n",
    "  Präfix des gesamten Patterns ist)\n",
    "\n",
    "<!-- TODO: besserer Code hier?! -->"
   ]
  },
  {
   "cell_type": "code",
   "execution_count": null,
   "metadata": {
    "collapsed": true
   },
   "outputs": [],
   "source": [
    "    def get_prefix_table(pattern):\n",
    "        i, j = 0, -1\n",
    "        prefix_table = [-1] * (len(pattern) + 1)\n",
    "        while i < len(pattern):\n",
    "            while j >= 0 and pattern[j] != pattern[i]:\n",
    "                j = prefix_table[j]\n",
    "            i += 1\n",
    "            j += 1\n",
    "            if i == len(pattern):\n",
    "                prefix_table[i] = j\n",
    "            elif pattern[i] != pattern[j]:\n",
    "                prefix_table[i] = j\n",
    "            else:\n",
    "                prefix_table[i] = prefix_table[j]\n",
    "        return prefix_table"
   ]
  },
  {
   "cell_type": "markdown",
   "metadata": {},
   "source": [
    "| 0 | 1 | 2 |  3 | 4 |  5 | 6 |  7 | 8 | 9 | 10 | match |\n",
    "|-------------------------------------------------------|\n",
    "| a | b | r |  a | c |  a | d |  a | b | r |  a |       |\n",
    "|-1 | 0 | 0 | -1 | 1 | -1 | 1 | -1 | 0 | 0 | -1 |    4  |\n",
    "\n",
    "Table: Präfix-Tabelle für das Pattern *abracadabra*"
   ]
  },
  {
   "cell_type": "code",
   "execution_count": null,
   "metadata": {
    "collapsed": true
   },
   "outputs": [],
   "source": [
    "    def kmp_search(text, pattern, prefix_table):\n",
    "        i, j = 0, 0\n",
    "        while i < len(text):\n",
    "            while j >= 0 and text[i] != pattern[j]:\n",
    "                j = prefix_table[j]\n",
    "            i += 1\n",
    "            j += 1\n",
    "            if j == len(pattern):\n",
    "                yield i - len(pattern)\n",
    "                j = prefix_table[j]"
   ]
  },
  {
   "cell_type": "markdown",
   "metadata": {},
   "source": [
    "# Shift-And\n",
    "- Automat wird mit Bitmasken repräsentiert\n",
    "- Bitmasken für jeden Buchstaben im Pattern erstellen (alle anderen\n",
    "  Buchstaben haben 0-Vektor als Bitmaske)\n",
    "- Vektor der einen Automaten repräsentiert, dessen Anfangszustand\n",
    "  immer aktiv ist, wird durch Shift-Operationen “durchlaufen” und mit\n",
    "  der Bitmaske des aktuell gelesenen Buchstabens im Text “verundet”\n",
    "- wenn der letzte Zustand des Automaten aktiv ist, wurde das Pattern\n",
    "  gefunden\n",
    "- Endianness der Vektoren ist zu beachten! (immer Big Endian?)"
   ]
  },
  {
   "cell_type": "code",
   "execution_count": null,
   "metadata": {
    "collapsed": true
   },
   "outputs": [],
   "source": [
    "    from BitVector import BitVector\n",
    "    def get_bit_table(pattern, alphabet):\n",
    "        table = {}\n",
    "        for char in alphabet:\n",
    "            table[char] = BitVector(size=len(pattern))\n",
    "        for i, char in enumerate(pattern):\n",
    "            table[char] = table[char] | BitVector(size=len(pattern)-i-1) \\\n",
    "                                        + BitVector(intVal=1) \\\n",
    "                                        + BitVector(size=i)\n",
    "        return table"
   ]
  },
  {
   "cell_type": "markdown",
   "metadata": {},
   "source": [
    "| ltr|   |   |   |   |   |   |   |   |   |   |   |\n",
    "|----|---|---|---|---|---|---|---|---|---|---|---|\n",
    "| a  | 1 | 0 | 0 | 1 | 0 | 1 | 0 | 1 | 0 | 0 | 1 |\n",
    "| b  | 0 | 0 | 1 | 0 | 0 | 0 | 0 | 0 | 0 | 1 | 0 |\n",
    "| r  | 0 | 1 | 0 | 0 | 0 | 0 | 0 | 0 | 1 | 0 | 0 |\n",
    "| c  | 0 | 0 | 0 | 0 | 0 | 0 | 1 | 0 | 0 | 0 | 0 |\n",
    "| d  | 0 | 0 | 0 | 0 | 1 | 0 | 0 | 0 | 0 | 0 | 0 |\n",
    "| \\* | 0 | 0 | 0 | 0 | 0 | 0 | 0 | 0 | 0 | 0 | 0 |\n",
    "\n",
    "Table: Bitmasken-Tabelle für das Pattern *abracadabra*"
   ]
  },
  {
   "cell_type": "code",
   "execution_count": null,
   "metadata": {
    "collapsed": true
   },
   "outputs": [],
   "source": [
    "    def shift_and_search(text, pattern, bit_table):\n",
    "        found = BitVector(intVal=1) + BitVector(size=len(pattern)-1)\n",
    "        zero = BitVector(size=len(pattern))\n",
    "        A = BitVector(size=len(pattern))\n",
    "        for i, char in enumerate(text):\n",
    "            A = (A<<1 | (BitVector(size=len(pattern)-1) \\\n",
    "                         + BitVector(intVal=1))) \\\n",
    "                & bit_table[char]\n",
    "            if A & found != zero:\n",
    "                yield i - len(pattern) + 1"
   ]
  },
  {
   "cell_type": "markdown",
   "metadata": {},
   "source": [
    "# Shift-Or\n",
    "- gleiches Konzept wie beim Shift-And Verfahren\n",
    "- hier repräsentieren 0en aktive und 1en inaktive Zustände, so kann der\n",
    "  Schritt des “aktiv machens” des ersten Zustands des Automaten gespart\n",
    "  werden, da beim shift automatisch eine neue 0 (aktiver Zustand) hinzugefügt\n",
    "  wird\n",
    "- alle Bitvektoren sind hier natürlich invertiert\n",
    "\n",
    "# Boyer-Moore\n",
    "- Pattern wird wie zuvor von links nach rechts durch den Text\n",
    "  geschoben, jedoch wird nun das Pattern von rechts nach links\n",
    "  durchlaufen (in natürlichen Sprachen wird so üblicherweise früher\n",
    "  ein Mismatch gefunden und das Pattern kann schneller\n",
    "  verschoben werden)\n",
    "- für die Verschiebung werden zwei Heuristiken angewandt\n",
    "    *   **Bad-Character Heuristik**\\\n",
    "        bei einem Mismatch kann das Pattern soweit verschoben werden,\n",
    "        dass der aktuell im Text gelesene Buchstabe mit dem letzten\n",
    "        vorkommen dieses Buchstabens im Pattern aligniert ist, wenn\n",
    "        dieser Buchstabe gar nicht im Pattern vorkommt, kann das Pattern\n",
    "        um seine ganze Länge verschoben werden\n",
    "    *   **Good-Suffix Heuristik**\\\n",
    "        Wenn das bis zum Mismatch gelesene Suffix des Patterns nochmals\n",
    "        Infix des Patterns ist, kann das Pattern soweit verschoben\n",
    "        werden, bis der gelesene Teil mit diesem Infix aligniert ist,\n",
    "        kommt dieses Suffix kein zweites malim Pattern vor, kann das\n",
    "        Pattern um seine ganze Länge verschoben werden\n",
    "- es wird immer die maximale Verschiebung die sich durch diese\n",
    "  Heristiken ergeben angewandt\n",
    "\n",
    "<!-- TODO: Code -->\n",
    "\n",
    "# Horspool\n",
    "- Wie bei Boyer-Moore wird der Text von links nach rechts, das Pattern aber\n",
    "  von rechts nach links durchlaufen\n",
    "- sobald ein Mismatch erreicht wird, wird das Pattern soweit verschoben, dass\n",
    "  das gerade gelesene Zeichen im Text mit dem letzen\n",
    "\n",
    "<!-- TODO: debug horspool search! (überlappende Vorkommen nicht gefunden...) -->"
   ]
  },
  {
   "cell_type": "code",
   "execution_count": null,
   "metadata": {
    "collapsed": true
   },
   "outputs": [],
   "source": [
    "    def get_horspool_table(pattern,alphabet):\n",
    "        table = {}\n",
    "        for char in alphabet:\n",
    "            try:\n",
    "                table[char] = pattern.rindex(char)\n",
    "            except ValueError:\n",
    "                table[char] = len(pattern)\n",
    "        return table\n",
    "\n",
    "    def horspool_search(text, pattern, horspool_table):\n",
    "        pos = 0\n",
    "        while pos <= len(text) - len(pattern):\n",
    "            j = len(pattern)-1\n",
    "            while j > 0 and text[pos + j] == pattern[j]:\n",
    "                j -= 1\n",
    "            if j == 0:\n",
    "                yield pos\n",
    "            pos = pos + horspool_table[text[pos+len(pattern)]]"
   ]
  },
  {
   "cell_type": "markdown",
   "metadata": {},
   "source": [
    "# Faktorbasierte Suche"
   ]
  }
 ],
 "metadata": {
  "kernelspec": {
   "display_name": "Python 3",
   "language": "python",
   "name": "python3"
  },
  "language_info": {
   "codemirror_mode": {
    "name": "ipython",
    "version": 3
   },
   "file_extension": ".py",
   "mimetype": "text/x-python",
   "name": "python",
   "nbconvert_exporter": "python",
   "pygments_lexer": "ipython3",
   "version": "3.4.3+"
  }
 },
 "nbformat": 4,
 "nbformat_minor": 0
}
