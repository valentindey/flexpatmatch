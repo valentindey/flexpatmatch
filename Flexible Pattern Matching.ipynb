{
 "cells": [
  {
   "cell_type": "markdown",
   "metadata": {},
   "source": [
    "\n",
    "# Simple Pattern Matching\n",
    "- eine Schleife, die über den Text itertiert (kann beendet werden,\n",
    "  sobald der restliche Text kürzer wäre als das Pattern selbst)\n",
    "- eine zweite Schleife, die an jeder Position des Textes über die\n",
    "  nächsten Buchstaben und das Pattern iteriert und abbricht, sobald\n",
    "  ein Buchstabe im Pattern nicht mit dem aktuellen Buchstaben im Text\n",
    "  übereinstimmt\n",
    "- wenn die zweite Schleife komplett durchlaufen wurde, wurde ein Match\n",
    "  gefunden"
   ]
  },
  {
   "cell_type": "code",
   "execution_count": 24,
   "metadata": {
    "collapsed": false
   },
   "outputs": [
    {
     "data": {
      "text/plain": [
       "[15, 29]"
      ]
     },
     "execution_count": 24,
     "metadata": {},
     "output_type": "execute_result"
    }
   ],
   "source": [
    "def simple_search(text, pattern):\n",
    "    for text_idx in range(len(text) - len(pattern) + 1):\n",
    "        for pat_idx, char in enumerate(pattern):\n",
    "            if char != text[text_idx+pat_idx]:\n",
    "                break\n",
    "        else:\n",
    "            yield text_idx\n",
    "                \n",
    "list(simple_search(text=\"Ich bin ein Moofoo der in Barfoo lebt.\",\n",
    "                   pattern=\"foo\"))"
   ]
  },
  {
   "cell_type": "markdown",
   "metadata": {},
   "source": [
    "# Knuth-Morris-Pratt\n",
    "- das selbe Prinzip wie beim Simple Pattern Matching\n",
    "- das Pattern wird jedoch bei einem Mismatch von Buchstaben “weiter\n",
    "  nach vorne geschoben”\n",
    "- hierbei hilft eine Prefix-Tabelle (auch Next-Funktion) die die\n",
    "  “Verschiebepositionen” speichert. (Die Verschiebeposition ist die Länge des\n",
    "  längsten Suffix des Teils des Patterns der gefunden wurde, der gleichzeitig\n",
    "  Präfix des gesamten Patterns ist)\n",
    "\n",
    "<!-- TODO: besserer Code hier?! -->"
   ]
  },
  {
   "cell_type": "code",
   "execution_count": 8,
   "metadata": {
    "collapsed": false
   },
   "outputs": [
    {
     "data": {
      "text/plain": [
       "[-1, 0, 0, -1, 1, -1, 1, -1, 0, 0, -1, 4]"
      ]
     },
     "execution_count": 8,
     "metadata": {},
     "output_type": "execute_result"
    }
   ],
   "source": [
    "def get_prefix_table(pattern):\n",
    "    i, j = 0, -1\n",
    "    prefix_table = [-1] * (len(pattern) + 1)\n",
    "    while i < len(pattern):\n",
    "        while j >= 0 and pattern[j] != pattern[i]:\n",
    "            j = prefix_table[j]\n",
    "        i += 1\n",
    "        j += 1\n",
    "        if i == len(pattern):\n",
    "            prefix_table[i] = j\n",
    "        elif pattern[i] != pattern[j]:\n",
    "            prefix_table[i] = j\n",
    "        else:\n",
    "            prefix_table[i] = prefix_table[j]\n",
    "    return prefix_table\n",
    "\n",
    "get_prefix_table('abracadabra')"
   ]
  },
  {
   "cell_type": "markdown",
   "metadata": {},
   "source": [
    "| 0 | 1 | 2 |  3 | 4 |  5 | 6 |  7 | 8 | 9 | 10 | match |\n",
    "|---|---|---|----|---|----|---|----|---|---|----|-------|\n",
    "| a | b | r |  a | c |  a | d |  a | b | r |  a |       |\n",
    "|-1 | 0 | 0 | -1 | 1 | -1 | 1 | -1 | 0 | 0 | -1 |    4  |\n",
    "\n",
    "Table: Präfix-Tabelle für das Pattern *abracadabra*"
   ]
  },
  {
   "cell_type": "code",
   "execution_count": 11,
   "metadata": {
    "collapsed": false
   },
   "outputs": [
    {
     "data": {
      "text/plain": [
       "[20]"
      ]
     },
     "execution_count": 11,
     "metadata": {},
     "output_type": "execute_result"
    }
   ],
   "source": [
    "def kmp_search(text, pattern):\n",
    "    prefix_table = get_prefix_table(pattern)\n",
    "    i, j = 0, 0\n",
    "    while i < len(text):\n",
    "        while j >= 0 and text[i] != pattern[j]:\n",
    "            j = prefix_table[j]\n",
    "        i += 1\n",
    "        j += 1\n",
    "        if j == len(pattern):\n",
    "            yield i - len(pattern)\n",
    "            j = prefix_table[j]\n",
    "            \n",
    "list(kmp_search(\"The magician said: 'abracadabra, simsalabim!'\", 'abracadabra'))"
   ]
  },
  {
   "cell_type": "markdown",
   "metadata": {},
   "source": [
    "# Shift-And\n",
    "- Automat wird mit Bitmasken repräsentiert\n",
    "- Bitmasken für jeden Buchstaben im Pattern erstellen (alle anderen\n",
    "  Buchstaben haben 0-Vektor als Bitmaske)\n",
    "- Vektor der einen Automaten repräsentiert, dessen Anfangszustand\n",
    "  immer aktiv ist, wird durch Shift-Operationen “durchlaufen” und mit\n",
    "  der Bitmaske des aktuell gelesenen Buchstabens im Text “verundet”\n",
    "- wenn der letzte Zustand des Automaten aktiv ist, wurde das Pattern\n",
    "  gefunden\n",
    "- Endianness der Vektoren ist zu beachten! (immer Big Endian?)"
   ]
  },
  {
   "cell_type": "code",
   "execution_count": 29,
   "metadata": {
    "collapsed": false
   },
   "outputs": [
    {
     "data": {
      "text/plain": [
       "{'a': BitArray('0b10010101001'),\n",
       " 'b': BitArray('0b00100000010'),\n",
       " 'c': BitArray('0b00000010000'),\n",
       " 'd': BitArray('0b00001000000'),\n",
       " 'r': BitArray('0b01000000100')}"
      ]
     },
     "execution_count": 29,
     "metadata": {},
     "output_type": "execute_result"
    }
   ],
   "source": [
    "from bitstring import BitArray\n",
    "from collections import defaultdict\n",
    "\n",
    "def get_bit_table(pattern):\n",
    "    n = len(pattern)\n",
    "    alphabet = set(pattern)\n",
    "    # Every entry represents the *reversed* pattern, with a 1\n",
    "    # at the positions with the character\n",
    "    table = {char: BitArray('0b' + ''.join('1' if c == char else '0'\n",
    "                                           for c in reversed(pattern)))\n",
    "             for char in alphabet}\n",
    "    return table\n",
    "\n",
    "get_bit_table('abracadabra')"
   ]
  },
  {
   "cell_type": "markdown",
   "metadata": {},
   "source": [
    "| ltr|   |   |   |   |   |   |   |   |   |   |   |\n",
    "|----|---|---|---|---|---|---|---|---|---|---|---|\n",
    "| a  | 1 | 0 | 0 | 1 | 0 | 1 | 0 | 1 | 0 | 0 | 1 |\n",
    "| b  | 0 | 0 | 1 | 0 | 0 | 0 | 0 | 0 | 0 | 1 | 0 |\n",
    "| r  | 0 | 1 | 0 | 0 | 0 | 0 | 0 | 0 | 1 | 0 | 0 |\n",
    "| c  | 0 | 0 | 0 | 0 | 0 | 0 | 1 | 0 | 0 | 0 | 0 |\n",
    "| d  | 0 | 0 | 0 | 0 | 1 | 0 | 0 | 0 | 0 | 0 | 0 |\n",
    "| \\* | 0 | 0 | 0 | 0 | 0 | 0 | 0 | 0 | 0 | 0 | 0 |\n",
    "\n",
    "Table: Bitmasken-Tabelle für das Pattern *abracadabra*"
   ]
  },
  {
   "cell_type": "code",
   "execution_count": 28,
   "metadata": {
    "collapsed": false
   },
   "outputs": [
    {
     "name": "stdout",
     "output_type": "stream",
     "text": [
      "[15, 29]\n",
      "[20]\n"
     ]
    }
   ],
   "source": [
    "def shift_and_search(text, pattern):\n",
    "    n = len(pattern)\n",
    "    bit_table = get_bit_table(pattern)\n",
    "    empty_vec = BitArray(length=n)\n",
    "    # Vector that represents a full match on the pattern ('1000...')\n",
    "    found_vec = BitArray('0b1' + '0'*(n-1))\n",
    "    # Vector that adds a '*' transition on the first state to itself ('...0001')\n",
    "    kleene_vec = BitArray('0b' + '0'*(n-1) + '1')\n",
    "    \n",
    "    # In the beginning, all states in the NFA are inactive\n",
    "    automaton = BitVector(size=n)\n",
    "    for text_idx, char in enumerate(text):\n",
    "        automaton = (\n",
    "            (automaton << 1  # Activate the next state in the automaton\n",
    "             | kleene_vec)   # Activate the first state\n",
    "            & bit_table.get(char, empty_vec))  # Activate all states that a char-transition leads to\n",
    "        if automaton & found_vec != empty_vec:\n",
    "              yield text_idx - n + 1\n",
    "            \n",
    "print(list(simple_search(text=\"Ich bin ein Moofoo der in Barfoo lebt.\",\n",
    "                         pattern=\"foo\")))\n",
    "            \n",
    "print(list(simple_search(text=\"The magician said: 'abracadabra', simsalabim!'\",\n",
    "                         pattern='abracadabra')))"
   ]
  },
  {
   "cell_type": "markdown",
   "metadata": {},
   "source": [
    "# Shift-Or\n",
    "- gleiches Konzept wie beim Shift-And Verfahren\n",
    "- hier repräsentieren 0en aktive und 1en inaktive Zustände, so kann der\n",
    "  Schritt des “aktiv machens” des ersten Zustands des Automaten gespart\n",
    "  werden, da beim shift automatisch eine neue 0 (aktiver Zustand) hinzugefügt\n",
    "  wird\n",
    "- alle Bitvektoren sind hier natürlich invertiert\n",
    "\n",
    "# Boyer-Moore\n",
    "- Pattern wird wie zuvor von links nach rechts durch den Text\n",
    "  geschoben, jedoch wird nun das Pattern von rechts nach links\n",
    "  durchlaufen (in natürlichen Sprachen wird so üblicherweise früher\n",
    "  ein Mismatch gefunden und das Pattern kann schneller\n",
    "  verschoben werden)\n",
    "- für die Verschiebung werden zwei Heuristiken angewandt\n",
    "    *   **Bad-Character Heuristik**\\\n",
    "        bei einem Mismatch kann das Pattern soweit verschoben werden,\n",
    "        dass der aktuell im Text gelesene Buchstabe mit dem letzten\n",
    "        vorkommen dieses Buchstabens im Pattern aligniert ist, wenn\n",
    "        dieser Buchstabe gar nicht im Pattern vorkommt, kann das Pattern\n",
    "        um seine ganze Länge verschoben werden\n",
    "    *   **Good-Suffix Heuristik**\\\n",
    "        Wenn das bis zum Mismatch gelesene Suffix des Patterns nochmals\n",
    "        Infix des Patterns ist, kann das Pattern soweit verschoben\n",
    "        werden, bis der gelesene Teil mit diesem Infix aligniert ist,\n",
    "        kommt dieses Suffix kein zweites malim Pattern vor, kann das\n",
    "        Pattern um seine ganze Länge verschoben werden\n",
    "- es wird immer die maximale Verschiebung die sich durch diese\n",
    "  Heristiken ergeben angewandt\n",
    "\n",
    "<!-- TODO: Code -->\n",
    "\n",
    "# Horspool\n",
    "- Wie bei Boyer-Moore wird der Text von links nach rechts, das Pattern aber\n",
    "  von rechts nach links durchlaufen\n",
    "- sobald ein Mismatch erreicht wird, wird das Pattern soweit verschoben, dass\n",
    "  das gerade gelesene Zeichen im Text mit dem letzen\n",
    "\n",
    "<!-- TODO: debug horspool search! (überlappende Vorkommen nicht gefunden...) -->"
   ]
  },
  {
   "cell_type": "code",
   "execution_count": null,
   "metadata": {
    "collapsed": true
   },
   "outputs": [],
   "source": [
    "    def get_horspool_table(pattern,alphabet):\n",
    "        table = {}\n",
    "        for char in alphabet:\n",
    "            try:\n",
    "                table[char] = pattern.rindex(char)\n",
    "            except ValueError:\n",
    "                table[char] = len(pattern)\n",
    "        return table\n",
    "\n",
    "    def horspool_search(text, pattern, horspool_table):\n",
    "        pos = 0\n",
    "        while pos <= len(text) - len(pattern):\n",
    "            j = len(pattern)-1\n",
    "            while j > 0 and text[pos + j] == pattern[j]:\n",
    "                j -= 1\n",
    "            if j == 0:\n",
    "                yield pos\n",
    "            pos = pos + horspool_table[text[pos+len(pattern)]]"
   ]
  },
  {
   "cell_type": "markdown",
   "metadata": {},
   "source": [
    "# Faktorbasierte Suche"
   ]
  }
 ],
 "metadata": {
  "kernelspec": {
   "display_name": "Python 3",
   "language": "python",
   "name": "python3"
  },
  "language_info": {
   "codemirror_mode": {
    "name": "ipython",
    "version": 3
   },
   "file_extension": ".py",
   "mimetype": "text/x-python",
   "name": "python",
   "nbconvert_exporter": "python",
   "pygments_lexer": "ipython3",
   "version": "3.4.3+"
  }
 },
 "nbformat": 4,
 "nbformat_minor": 0
}
